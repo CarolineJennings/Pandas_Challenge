{
 "cells": [
  {
   "cell_type": "code",
   "execution_count": 1,
   "id": "9b5ac075",
   "metadata": {},
   "outputs": [],
   "source": [
    "# Dependencies and Setup\n",
    "import pandas as pd\n",
    "from pathlib import Path\n",
    "\n"
   ]
  },
  {
   "cell_type": "code",
   "execution_count": 38,
   "id": "30874b22",
   "metadata": {},
   "outputs": [],
   "source": [
    "# Create path\n",
    "school_data_ = Path(\"Resources/schools_complete.csv\")\n",
    "student_data_ = Path(\"Resources/students_complete.csv\")\n",
    "\n",
    "#  convert csv\n",
    "school_data = pd.read_csv(school_data_)\n",
    "student_data = pd.read_csv(student_data_)\n",
    "\n",
    "# Merge datasets\n",
    "school_data_complete = pd.merge(student_data, school_data, how=\"left\", on=[\"school_name\", \"school_name\"])"
   ]
  },
  {
   "cell_type": "code",
   "execution_count": 3,
   "id": "c2290f16",
   "metadata": {},
   "outputs": [
    {
     "name": "stdout",
     "output_type": "stream",
     "text": [
      "Total number of unique schools: 15\n",
      "Total number of students: 39170\n",
      "Total budget: 24649428\n"
     ]
    }
   ],
   "source": [
    "# Total unique schools\n",
    "total_unique_schools = school_data_complete['school_name'].nunique()\n",
    "print(\"Total number of unique schools:\", total_unique_schools)\n",
    "\n",
    "# Total students\n",
    "total_students = len(school_data_complete)\n",
    "print(\"Total number of students:\", total_students)\n",
    "\n",
    "# Total budget\n",
    "total_budget = school_data['budget'].sum()\n",
    "print(\"Total budget:\", total_budget)\n",
    "\n"
   ]
  },
  {
   "cell_type": "code",
   "execution_count": 4,
   "id": "eb01e3a7",
   "metadata": {},
   "outputs": [
    {
     "name": "stdout",
     "output_type": "stream",
     "text": [
      "Average maths score: 70.33819249425581\n",
      "Average reading score: 69.98013786060761\n"
     ]
    }
   ],
   "source": [
    "# Average maths score\n",
    "average_maths_score = school_data_complete['maths_score'].mean()\n",
    "print(\"Average maths score:\", average_maths_score)\n",
    "\n",
    "# Average reading score\n",
    "average_reading_score = school_data_complete['reading_score'].mean()\n",
    "print(\"Average reading score:\", average_reading_score)"
   ]
  },
  {
   "cell_type": "code",
   "execution_count": 6,
   "id": "6a351de7",
   "metadata": {},
   "outputs": [
    {
     "name": "stdout",
     "output_type": "stream",
     "text": [
      "% Passing Maths: 86.07863160582077\n",
      "% Passing Reading: 84.42685728874139\n",
      "% Overall Passing: 72.80827163645647\n"
     ]
    }
   ],
   "source": [
    "# % passing maths\n",
    "passing_maths_percentage = (school_data_complete['maths_score'] >= 50).sum() / total_students * 100\n",
    "print(\"% Passing Maths:\", passing_maths_percentage)\n",
    "\n",
    "# % passing reading\n",
    "passing_reading_percentage = (school_data_complete['reading_score'] >= 50).sum() / total_students * 100\n",
    "print(\"% Passing Reading:\", passing_reading_percentage)\n",
    "\n",
    "# % overall passing (passed math AND reading)\n",
    "overall_passing_percentage = ((school_data_complete['maths_score'] >= 50) & (school_data_complete['reading_score'] >= 50)).sum() / total_students * 100\n",
    "print(\"% Overall Passing:\", overall_passing_percentage)"
   ]
  },
  {
   "cell_type": "code",
   "execution_count": 7,
   "id": "9bb5e398",
   "metadata": {},
   "outputs": [
    {
     "name": "stdout",
     "output_type": "stream",
     "text": [
      "% Passing Maths: 86.08\n",
      "% Passing Reading: 84.43\n",
      "% Overall Passing: 72.81\n"
     ]
    }
   ],
   "source": [
    "# Rounding up the percentage values to two decimal places\n",
    "passing_maths_percentage = round(passing_maths_percentage, 2)\n",
    "passing_reading_percentage = round(passing_reading_percentage, 2)\n",
    "overall_passing_percentage = round(overall_passing_percentage, 2)\n",
    "\n",
    "# Print round up %\n",
    "print(\"% Passing Maths:\", passing_maths_percentage)\n",
    "print(\"% Passing Reading:\", passing_reading_percentage)\n",
    "print(\"% Overall Passing:\", overall_passing_percentage)"
   ]
  },
  {
   "cell_type": "code",
   "execution_count": 8,
   "id": "e699e464",
   "metadata": {},
   "outputs": [
    {
     "name": "stdout",
     "output_type": "stream",
     "text": [
      "                       School Type  Total Students  Total School Budget  \\\n",
      "school_name                                                               \n",
      "Bailey High School      Government            4976              3124928   \n",
      "Cabrera High School    Independent            1858              1081356   \n",
      "Figueroa High School    Government            2949              1884411   \n",
      "Ford High School        Government            2739              1763916   \n",
      "Griffin High School    Independent            1468               917500   \n",
      "Hernandez High School   Government            4635              3022020   \n",
      "Holden High School     Independent             427               248087   \n",
      "Huang High School       Government            2917              1910635   \n",
      "Johnson High School     Government            4761              3094650   \n",
      "Pena High School       Independent             962               585858   \n",
      "Rodriguez High School   Government            3999              2547363   \n",
      "Shelton High School    Independent            1761              1056600   \n",
      "Thomas High School     Independent            1635              1043130   \n",
      "Wilson High School     Independent            2283              1319574   \n",
      "Wright High School     Independent            1800              1049400   \n",
      "\n",
      "                       Per Student Budget  Average Maths Score  \\\n",
      "school_name                                                      \n",
      "Bailey High School                  628.0            72.352894   \n",
      "Cabrera High School                 582.0            71.657158   \n",
      "Figueroa High School                639.0            68.698542   \n",
      "Ford High School                    644.0            69.091274   \n",
      "Griffin High School                 625.0            71.788147   \n",
      "Hernandez High School               652.0            68.874865   \n",
      "Holden High School                  581.0            72.583138   \n",
      "Huang High School                   655.0            68.935207   \n",
      "Johnson High School                 650.0            68.843100   \n",
      "Pena High School                    609.0            72.088358   \n",
      "Rodriguez High School               637.0            72.047762   \n",
      "Shelton High School                 600.0            72.034072   \n",
      "Thomas High School                  638.0            69.581651   \n",
      "Wilson High School                  578.0            69.170828   \n",
      "Wright High School                  583.0            72.047222   \n",
      "\n",
      "                       Average Reading Score  % Passing Maths  \\\n",
      "school_name                                                     \n",
      "Bailey High School                 71.008842        91.639871   \n",
      "Cabrera High School                71.359526        90.850377   \n",
      "Figueroa High School               69.077993        81.654798   \n",
      "Ford High School                   69.572472        82.438846   \n",
      "Griffin High School                71.245232        91.212534   \n",
      "Hernandez High School              69.186408        80.949299   \n",
      "Holden High School                 71.660422        89.929742   \n",
      "Huang High School                  68.910525        81.693521   \n",
      "Johnson High School                69.039277        82.062592   \n",
      "Pena High School                   71.613306        91.683992   \n",
      "Rodriguez High School              70.935984        90.797699   \n",
      "Shelton High School                70.257808        91.538898   \n",
      "Thomas High School                 69.768807        83.853211   \n",
      "Wilson High School                 68.876916        82.785808   \n",
      "Wright High School                 70.969444        91.777778   \n",
      "\n",
      "                       % Passing Reading  % Overall Passing  \n",
      "school_name                                                  \n",
      "Bailey High School             87.379421          80.084405  \n",
      "Cabrera High School            89.074273          80.785791  \n",
      "Figueroa High School           82.807731          67.650051  \n",
      "Ford High School               82.219788          67.469880  \n",
      "Griffin High School            88.487738          81.335150  \n",
      "Hernandez High School          81.877023          66.364617  \n",
      "Holden High School             88.524590          78.922717  \n",
      "Huang High School              81.453548          66.712376  \n",
      "Johnson High School            81.978576          67.191766  \n",
      "Pena High School               86.590437          79.209979  \n",
      "Rodriguez High School          87.396849          79.419855  \n",
      "Shelton High School            86.712095          78.875639  \n",
      "Thomas High School             82.629969          69.480122  \n",
      "Wilson High School             81.296540          67.455103  \n",
      "Wright High School             86.666667          79.722222  \n"
     ]
    }
   ],
   "source": [
    "# Calculate totals and averages\n",
    "total_students = school_data_complete.groupby('school_name')['Student ID'].nunique()\n",
    "total_budget = school_data.groupby('school_name')['budget'].sum()\n",
    "average_maths_score = school_data_complete.groupby('school_name')['maths_score'].mean()\n",
    "average_reading_score = school_data_complete.groupby('school_name')['reading_score'].mean()\n",
    "\n",
    "# Calculate %\n",
    "passing_maths_percentage = (school_data_complete[school_data_complete['maths_score'] >= 50].groupby('school_name')['Student ID'].count() / total_students) * 100\n",
    "passing_reading_percentage = (school_data_complete[school_data_complete['reading_score'] >= 50].groupby('school_name')['Student ID'].count() / total_students) * 100\n",
    "overall_passing_percentage = (school_data_complete[(school_data_complete['maths_score'] >= 50) & (school_data_complete['reading_score'] >= 50)].groupby('school_name')['Student ID'].count() / total_students) * 100\n",
    "\n",
    "# Calculate per student budget\n",
    "per_student_budget = total_budget / total_students\n",
    "\n",
    "# Create a dictionary summary data\n",
    "school_summary_data = {\n",
    "    \"School Type\": school_data.set_index('school_name')['type'],\n",
    "    \"Total Students\": total_students,\n",
    "    \"Total School Budget\": total_budget,\n",
    "    \"Per Student Budget\": per_student_budget,\n",
    "    \"Average Maths Score\": average_maths_score,\n",
    "    \"Average Reading Score\": average_reading_score,\n",
    "    \"% Passing Maths\": passing_maths_percentage,\n",
    "    \"% Passing Reading\": passing_reading_percentage,\n",
    "    \"% Overall Passing\": overall_passing_percentage\n",
    "}\n",
    "\n",
    "# Convert to Pandas \n",
    "school_summary_df = pd.DataFrame(school_summary_data)\n",
    "\n",
    "# Print summary\n",
    "print(school_summary_df)"
   ]
  },
  {
   "cell_type": "code",
   "execution_count": 11,
   "id": "f3179bca",
   "metadata": {},
   "outputs": [
    {
     "name": "stdout",
     "output_type": "stream",
     "text": [
      "Top 5 Performing Schools (by % Overall Passing):\n",
      "                       School Type  Total Students  Total School Budget  \\\n",
      "school_name                                                               \n",
      "Griffin High School    Independent            1468               917500   \n",
      "Cabrera High School    Independent            1858              1081356   \n",
      "Bailey High School      Government            4976              3124928   \n",
      "Wright High School     Independent            1800              1049400   \n",
      "Rodriguez High School   Government            3999              2547363   \n",
      "\n",
      "                       Per Student Budget  Average Maths Score  \\\n",
      "school_name                                                      \n",
      "Griffin High School                 625.0            71.788147   \n",
      "Cabrera High School                 582.0            71.657158   \n",
      "Bailey High School                  628.0            72.352894   \n",
      "Wright High School                  583.0            72.047222   \n",
      "Rodriguez High School               637.0            72.047762   \n",
      "\n",
      "                       Average Reading Score  % Passing Maths  \\\n",
      "school_name                                                     \n",
      "Griffin High School                71.245232        91.212534   \n",
      "Cabrera High School                71.359526        90.850377   \n",
      "Bailey High School                 71.008842        91.639871   \n",
      "Wright High School                 70.969444        91.777778   \n",
      "Rodriguez High School              70.935984        90.797699   \n",
      "\n",
      "                       % Passing Reading  % Overall Passing  \n",
      "school_name                                                  \n",
      "Griffin High School            88.487738          81.335150  \n",
      "Cabrera High School            89.074273          80.785791  \n",
      "Bailey High School             87.379421          80.084405  \n",
      "Wright High School             86.666667          79.722222  \n",
      "Rodriguez High School          87.396849          79.419855  \n"
     ]
    }
   ],
   "source": [
    "#HELP\n",
    "# Sort schools by % Overall Passing in descending order and get the top 5\n",
    "top_schools = school_summary_df.sort_values('% Overall Passing', ascending=False).head(5)\n",
    "\n",
    "# Display the top 5 schools\n",
    "print(\"Top 5 Performing Schools (by % Overall Passing):\")\n",
    "print(top_schools)"
   ]
  },
  {
   "cell_type": "code",
   "execution_count": 12,
   "id": "88999367",
   "metadata": {},
   "outputs": [
    {
     "name": "stdout",
     "output_type": "stream",
     "text": [
      "Bottom 5 Performing Schools (by % Overall Passing):\n",
      "                       School Type  Total Students  Total School Budget  \\\n",
      "school_name                                                               \n",
      "Hernandez High School   Government            4635              3022020   \n",
      "Huang High School       Government            2917              1910635   \n",
      "Johnson High School     Government            4761              3094650   \n",
      "Wilson High School     Independent            2283              1319574   \n",
      "Ford High School        Government            2739              1763916   \n",
      "\n",
      "                       Per Student Budget  Average Maths Score  \\\n",
      "school_name                                                      \n",
      "Hernandez High School               652.0            68.874865   \n",
      "Huang High School                   655.0            68.935207   \n",
      "Johnson High School                 650.0            68.843100   \n",
      "Wilson High School                  578.0            69.170828   \n",
      "Ford High School                    644.0            69.091274   \n",
      "\n",
      "                       Average Reading Score  % Passing Maths  \\\n",
      "school_name                                                     \n",
      "Hernandez High School              69.186408        80.949299   \n",
      "Huang High School                  68.910525        81.693521   \n",
      "Johnson High School                69.039277        82.062592   \n",
      "Wilson High School                 68.876916        82.785808   \n",
      "Ford High School                   69.572472        82.438846   \n",
      "\n",
      "                       % Passing Reading  % Overall Passing  \n",
      "school_name                                                  \n",
      "Hernandez High School          81.877023          66.364617  \n",
      "Huang High School              81.453548          66.712376  \n",
      "Johnson High School            81.978576          67.191766  \n",
      "Wilson High School             81.296540          67.455103  \n",
      "Ford High School               82.219788          67.469880  \n"
     ]
    }
   ],
   "source": [
    "#HELP\n",
    "# Sort schools by % Overall Passing in ascending order and get the bottom 5\n",
    "bottom_schools = school_summary_df.sort_values('% Overall Passing', ascending=True).head(5)\n",
    "\n",
    "# Display the bottom 5 schools\n",
    "print(\"Bottom 5 Performing Schools (by % Overall Passing):\")\n",
    "print(bottom_schools)"
   ]
  },
  {
   "cell_type": "code",
   "execution_count": 19,
   "id": "068c7b85",
   "metadata": {},
   "outputs": [
    {
     "name": "stdout",
     "output_type": "stream",
     "text": [
      "Average Maths Score by Year and School:\n",
      "Year Level                  9.0        10.0       11.0       12.0\n",
      "school_name                                                      \n",
      "Bailey High School     72.493827  71.897498  72.374900  72.675097\n",
      "Cabrera High School    72.321970  72.437768  71.008299  70.604712\n",
      "Figueroa High School   68.477804  68.331586  68.811001  69.325282\n",
      "Ford High School       69.021609  69.387006  69.248862  68.617811\n",
      "Griffin High School    72.789731  71.093596  71.692521  71.469178\n",
      "Hernandez High School  68.586831  68.867156  69.154412  68.985075\n",
      "Holden High School     70.543307  75.105263  71.640777  73.409639\n",
      "Huang High School      69.081754  68.533246  69.431345  68.639316\n",
      "Johnson High School    69.469286  67.990220  68.637730  69.287393\n",
      "Pena High School       71.996364  72.396000  72.523438  71.187845\n",
      "Rodriguez High School  71.940722  71.779808  72.364811  72.154626\n",
      "Shelton High School    72.932075  72.506696  70.097087  72.331536\n",
      "Thomas High School     69.234273  70.057007  69.657831  69.369822\n",
      "Wilson High School     69.212361  69.455446  68.378965  69.787472\n",
      "Wright High School     71.741176  72.179012  73.275862  70.848238\n"
     ]
    }
   ],
   "source": [
    "# Convert 'year' to string?\n",
    "school_data_complete['Year Level'] = school_data_complete['year'].astype(str).str.extract('(\\d+)').astype(float)\n",
    "\n",
    "# Group and get average\n",
    "average_maths_score_by_year = school_data_complete.groupby(['school_name', 'Year Level'])['maths_score'].mean().reset_index()\n",
    "\n",
    "# Pivot? WEb help\n",
    "average_maths_score_by_year_pivot = average_maths_score_by_year.pivot(index='school_name', columns='Year Level', values='maths_score')\n",
    "\n",
    "# Display average maths score by year and school\n",
    "print(\"Average Maths Score by Year and School:\")\n",
    "print(average_maths_score_by_year_pivot)"
   ]
  },
  {
   "cell_type": "code",
   "execution_count": 40,
   "id": "db3516f6",
   "metadata": {},
   "outputs": [
    {
     "name": "stdout",
     "output_type": "stream",
     "text": [
      "Average Reading Score by Year and School:\n",
      "Year Level                  9.0        10.0       11.0       12.0\n",
      "school_name                                                      \n",
      "Bailey High School     70.901920  70.848265  70.317346  72.195525\n",
      "Cabrera High School    71.172348  71.328326  71.201245  71.856021\n",
      "Figueroa High School   70.261682  67.677588  69.152327  69.082126\n",
      "Ford High School       69.615846  68.988701  70.735964  68.849722\n",
      "Griffin High School    72.026895  70.746305  72.385042  69.434932\n",
      "Hernandez High School  68.477569  70.621842  68.418199  69.244136\n",
      "Holden High School     71.598425  71.096491  73.310680  70.481928\n",
      "Huang High School      68.670616  69.516297  68.740638  68.671795\n",
      "Johnson High School    68.719286  69.295029  69.969115  67.992521\n",
      "Pena High School       70.949091  72.324000  71.703125  71.513812\n",
      "Rodriguez High School  70.902921  70.137500  71.424453  71.414449\n",
      "Shelton High School    70.715094  69.879464  71.150485  69.070081\n",
      "Thomas High School     69.672451  69.741093  70.749398  68.730769\n",
      "Wilson High School     68.683043  68.412541  68.796327  69.888143\n",
      "Wright High School     71.823529  71.386831  70.475862  69.821138\n"
     ]
    }
   ],
   "source": [
    "# Convert 'year' column\n",
    "school_data_complete['Year Level'] = school_data_complete['year'].astype(str).str.extract('(\\d+)').astype(float)\n",
    "\n",
    "# Group and get average\n",
    "average_reading_score_by_year = school_data_complete.groupby(['school_name', 'Year Level'])['reading_score'].mean().reset_index()\n",
    "\n",
    "# Pivot? as above. WEb\n",
    "average_reading_score_by_year_pivot = average_reading_score_by_year.pivot(index='school_name', columns='Year Level', values='reading_score')\n",
    "\n",
    "# Display average reading score by year and school\n",
    "print(\"Average Reading Score by Year and School:\")\n",
    "print(average_reading_score_by_year_pivot)"
   ]
  },
  {
   "cell_type": "code",
   "execution_count": 26,
   "id": "a20977d6",
   "metadata": {},
   "outputs": [
    {
     "name": "stdout",
     "output_type": "stream",
     "text": [
      "School Performance Based on Average Spending Ranges:\n",
      "  Spending Range  maths_score  reading_score\n",
      "0          <$585    70.938128      70.379397\n",
      "1       $585-630    72.173448      70.965856\n",
      "2       $630-645    70.104045      69.953630\n",
      "3       $645-680    68.876878      69.064160\n"
     ]
    }
   ],
   "source": [
    "# Define spending_bins and labels - provided\n",
    "spending_bins = [0, 585, 630, 645, 680]\n",
    "labels = [\"<$585\", \"$585-630\", \"$630-645\", \"$645-680\"]\n",
    "\n",
    "# Create spending range column\n",
    "school_data_complete['Spending Range'] = pd.cut(school_data_complete['budget'] / school_data_complete['size'], bins=spending_bins, labels=labels)\n",
    "\n",
    "# Group and get average scores\n",
    "performance_by_spending = school_data_complete.groupby('Spending Range').agg({\n",
    "    'maths_score': 'mean',\n",
    "    'reading_score': 'mean'\n",
    "}).reset_index()\n",
    "\n",
    "# Print\n",
    "print(\"School Performance Based on Average Spending Ranges:\")\n",
    "print(performance_by_spending)"
   ]
  },
  {
   "cell_type": "code",
   "execution_count": 30,
   "id": "4974c22a",
   "metadata": {},
   "outputs": [
    {
     "name": "stdout",
     "output_type": "stream",
     "text": [
      "Mean Scores and Percentages per Spending Range:\n",
      "                               maths_score  reading_score\n",
      "Spending Ranges (Per Student)                            \n",
      "<$585                            70.938128      70.379397\n",
      "$585-630                         72.173448      70.965856\n",
      "$630-645                         70.104045      69.953630\n",
      "$645-680                         68.876878      69.064160\n"
     ]
    }
   ],
   "source": [
    "# Create spending range column\n",
    "school_data_complete['Spending Ranges (Per Student)'] = pd.cut(school_data_complete['budget'] / school_data_complete['size'], bins=spending_bins, labels=labels)\n",
    "\n",
    "# Calculate mean per range\n",
    "spending_scores = school_data_complete.groupby(\"Spending Ranges (Per Student)\").agg({\n",
    "    'maths_score': 'mean',\n",
    "    'reading_score': 'mean',\n",
    "   \n",
    "})\n",
    "\n",
    "# Print\n",
    "print(\"Mean Scores and Percentages per Spending Range:\")\n",
    "print(spending_scores)"
   ]
  },
  {
   "cell_type": "code",
   "execution_count": null,
   "id": "b33c5cab",
   "metadata": {},
   "outputs": [],
   "source": [
    "# Spending summary\n",
    "\n",
    "#GET HELP"
   ]
  },
  {
   "cell_type": "code",
   "execution_count": null,
   "id": "83256928",
   "metadata": {},
   "outputs": [],
   "source": []
  }
 ],
 "metadata": {
  "kernelspec": {
   "display_name": "Python 3 (ipykernel)",
   "language": "python",
   "name": "python3"
  },
  "language_info": {
   "codemirror_mode": {
    "name": "ipython",
    "version": 3
   },
   "file_extension": ".py",
   "mimetype": "text/x-python",
   "name": "python",
   "nbconvert_exporter": "python",
   "pygments_lexer": "ipython3",
   "version": "3.10.13"
  }
 },
 "nbformat": 4,
 "nbformat_minor": 5
}
